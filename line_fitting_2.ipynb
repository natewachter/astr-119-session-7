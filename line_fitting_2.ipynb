{
 "cells": [
  {
   "cell_type": "markdown",
   "metadata": {},
   "source": [
    "# Example of performing a linear least squares fit"
   ]
  },
  {
   "cell_type": "code",
   "execution_count": null,
   "metadata": {},
   "outputs": [],
   "source": [
    "%matplotlib inline\n",
    "import matplotlib.pyplot as plt\n",
    "import numpy as np"
   ]
  },
  {
   "cell_type": "markdown",
   "metadata": {},
   "source": [
    "### Let's generate some random data about a trend line"
   ]
  },
  {
   "cell_type": "code",
   "execution_count": null,
   "metadata": {},
   "outputs": [],
   "source": [
    "# set the random number seed\n",
    "np.random.seed(119)\n",
    "\n",
    "# set the number of data points to generate\n",
    "npoints = 50\n",
    "\n",
    "#set x\n",
    "x = np.linspace(0.,10.,npoints)\n",
    "\n",
    "# set slope, intercept, and scatter rms\n",
    "m = 2.0\n",
    "b = 1.0\n",
    "sigma = 2.0\n",
    "\n",
    "# generate y points\n",
    "y = m*x + b + np.random.normal(scale=sigma, size=npoints)\n",
    "y_err = np.full(npoints, sigma)"
   ]
  },
  {
   "cell_type": "markdown",
   "metadata": {},
   "source": [
    "# Let's just plot the data first"
   ]
  },
  {
   "cell_type": "code",
   "execution_count": null,
   "metadata": {},
   "outputs": [],
   "source": [
    "f = plt.figure(figsize=(7,7))\n",
    "plt.errorbar(x,y,yerr=y_err,fmt='o')\n",
    "plt.xlabel('x')\n",
    "plt.ylabel('y')"
   ]
  },
  {
   "cell_type": "markdown",
   "metadata": {},
   "source": [
    "## Method #1: polyfit()"
   ]
  },
  {
   "cell_type": "code",
   "execution_count": null,
   "metadata": {},
   "outputs": [],
   "source": [
    "m_fit, b_fit = np.poly1d(np.polyfit(x,y,1,w=1./y_err))\n",
    "print(m_fit, b_fit)\n",
    "y_fit = m_fit * x + b_fit"
   ]
  },
  {
   "cell_type": "markdown",
   "metadata": {},
   "source": [
    "# Plot the result"
   ]
  },
  {
   "cell_type": "code",
   "execution_count": null,
   "metadata": {},
   "outputs": [],
   "source": [
    "f = plt.figure(figsize=(7,7))\n",
    "plt.errorbar(x,y,yerr=y_err,fmt='o',label=\"data\")\n",
    "plt.plot(x,y_fit,label='fit')\n",
    "plt.xlabel('x')\n",
    "plt.ylabel('y')\n",
    "plt.legend(loc=2,frameon=False)"
   ]
  },
  {
   "cell_type": "markdown",
   "metadata": {},
   "source": [
    "# Method #2: scipy + optimize"
   ]
  },
  {
   "cell_type": "code",
   "execution_count": null,
   "metadata": {},
   "outputs": [],
   "source": [
    "from scipy import optimize\n",
    "\n",
    "# define a function to fit\n",
    "def f_line(x,m,b):\n",
    "    return m*x + b\n",
    "\n",
    "# perform the fit\n",
    "params, params_cov = optimize.curve_fit(f_line,x,y,sigma=y_err)\n",
    "\n",
    "m_fit = params[0]     # best fit\n",
    "b_fit = params[1]     # best fit intercept\n",
    "print(m_fit,b_fit)"
   ]
  },
  {
   "cell_type": "code",
   "execution_count": null,
   "metadata": {},
   "outputs": [],
   "source": [
    "f = plt.figure(figsize=(7,7))\n",
    "plt.errorbar(x,y,yerr=y_err,fmt='o',label=\"data\")\n",
    "plt.plot(x,y_fit,label='fit')\n",
    "plt.xlabel('x')\n",
    "plt.ylabel('y')\n",
    "plt.legend(loc=2,frameon=False)"
   ]
  },
  {
   "cell_type": "markdown",
   "metadata": {},
   "source": [
    "# Much more complicated fits"
   ]
  },
  {
   "cell_type": "code",
   "execution_count": 11,
   "metadata": {},
   "outputs": [
    {
     "data": {
      "text/plain": [
       "<matplotlib.legend.Legend at 0x7fa368556a30>"
      ]
     },
     "execution_count": 11,
     "metadata": {},
     "output_type": "execute_result"
    },
    {
     "data": {
      "image/png": "[encoded data removed]",
      "text/plain": [
       "<Figure size 504x504 with 1 Axes>"
      ]
     },
     "metadata": {
      "needs_background": "light"
     },
     "output_type": "display_data"
    }
   ],
   "source": [
    "# redefine x and y\n",
    "npoint = 50\n",
    "x = np.linspace(0.,2*np.pi, npoints)\n",
    "\n",
    "# make y a complicated funtion\n",
    "def cfunc(x,a,b,c,d):\n",
    "    return a * np.sin(b*x+c) + d\n",
    "\n",
    "# value of params to generate the data\n",
    "a = 3.4\n",
    "b = 2.1\n",
    "c = 0.27\n",
    "d = -1.3\n",
    "sig = 0.6\n",
    "\n",
    "y = cfunc(x,a,b,c,d)\n",
    "y_err = np.full(npoints,sig)\n",
    "\n",
    "f = plt.figure(figsize=(7,7))\n",
    "plt.errorbar(x,y,yerr=y_err,fmt='o',label=\"data\")\n",
    "plt.plot(x,y_fit,label='fit')\n",
    "plt.xlabel('x')\n",
    "plt.ylabel('y')\n",
    "plt.legend(loc=2,frameon=False)"
   ]
  },
  {
   "cell_type": "markdown",
   "metadata": {},
   "source": [
    "# Perform a fit using scipy.optimize.curve_fit()"
   ]
  },
  {
   "cell_type": "code",
   "execution_count": 13,
   "metadata": {},
   "outputs": [
    {
     "name": "stdout",
     "output_type": "stream",
     "text": [
      "3.4 2.0999999999999996 0.2700000000000003 -1.2999999999999996\n"
     ]
    }
   ],
   "source": [
    "from scipy import optimize\n",
    "\n",
    "# make y a complicated funtion\n",
    "def cfunc(x,a,b,c,d):\n",
    "    return a * np.sin(b*x+c) + d\n",
    "\n",
    "# perform the fit\n",
    "params,params_cov = optimize.curve_fit(cfunc,x,y,sigma=y_err,p0=[1,2.,0.1,-0.1])\n",
    "\n",
    "a_fit = params[0]\n",
    "b_fit = params[1]\n",
    "c_fit = params[2]\n",
    "d_fit = params[3]\n",
    "\n",
    "print(a_fit,b_fit,c_fit,d_fit)\n",
    "\n",
    "y_fit = a_fit * np.sin(b_fit * x + c_fit) + d_fit"
   ]
  },
  {
   "cell_type": "code",
   "execution_count": 14,
   "metadata": {},
   "outputs": [
    {
     "data": {
      "text/plain": [
       "<matplotlib.legend.Legend at 0x7fa36878de20>"
      ]
     },
     "execution_count": 14,
     "metadata": {},
     "output_type": "execute_result"
    },
    {
     "data": {
      "image/png": "[encoded data removed]",
      "text/plain": [
       "<Figure size 504x504 with 1 Axes>"
      ]
     },
     "metadata": {
      "needs_background": "light"
     },
     "output_type": "display_data"
    }
   ],
   "source": [
    "f = plt.figure(figsize=(7,7))\n",
    "plt.errorbar(x,y,yerr=y_err,fmt='o',label=\"data\")\n",
    "plt.plot(x,y_fit,label='fit')\n",
    "plt.xlabel('x')\n",
    "plt.ylabel('y')\n",
    "plt.legend(loc=2,frameon=False)"
   ]
  },
  {
   "cell_type": "code",
   "execution_count": null,
   "metadata": {},
   "outputs": [],
   "source": []
  }
 ],
 "metadata": {
  "kernelspec": {
   "display_name": "Python 3",
   "language": "python",
   "name": "python3"
  },
  "language_info": {
   "codemirror_mode": {
    "name": "ipython",
    "version": 3
   },
   "file_extension": ".py",
   "mimetype": "text/x-python",
   "name": "python",
   "nbconvert_exporter": "python",
   "pygments_lexer": "ipython3",
   "version": "3.8.6"
  }
 },
 "nbformat": 4,
 "nbformat_minor": 4
}
